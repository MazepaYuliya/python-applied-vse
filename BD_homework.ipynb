{
  "cells": [
    {
      "cell_type": "markdown",
      "metadata": {
        "id": "m9QWlN-lq0qw"
      },
      "source": [
        "# Практическая работа"
      ]
    },
    {
      "cell_type": "markdown",
      "metadata": {
        "id": "4Nb7eTxYWWUe"
      },
      "source": [
        "# Задача"
      ]
    },
    {
      "cell_type": "markdown",
      "metadata": {
        "id": "ug5TQChn6KiJ"
      },
      "source": [
        "Один из способов повысить эффективность взаимодействия банка с клиентами — отправлять предложение о новой услуге не всем клиентам, а только некоторым, которые выбираются по принципу наибольшей склонности к отклику на это предложение.\n",
        "\n",
        "Задача заключается в том, чтобы предложить алгоритм, который будет выдавать склонность клиента к положительному или отрицательному отклику на предложение банка. Предполагается, что, получив такие оценки для некоторого множества клиентов, банк обратится с предложением только к тем, от кого ожидается положительный отклик.\n"
      ]
    },
    {
      "cell_type": "markdown",
      "metadata": {
        "id": "5k52FwP156I6"
      },
      "source": [
        "Для решения этой задачи загрузите файлы из базы в Postgres.\n",
        "Эта БД хранит информацию о клиентах банка и их персональные данные, такие как пол, количество детей и другие.\n",
        "\n",
        "Описание таблиц с данными представлено ниже.\n"
      ]
    },
    {
      "cell_type": "markdown",
      "metadata": {
        "id": "3HYLpuwA6dAw"
      },
      "source": [
        "**D_work**\n",
        "\n",
        "Описание статусов относительно работы:\n",
        "- ID — идентификатор социального статуса клиента относительно работы;\n",
        "- COMMENT — расшифровка статуса.\n",
        "\n",
        "\n",
        "**D_pens**\n",
        "\n",
        "Описание статусов относительно пенсии:\n",
        "- ID — идентификатор социального статуса;\n",
        "- COMMENT — расшифровка статуса.\n",
        "\n",
        "\n",
        "**D_clients**\n",
        "\n",
        "Описание данных клиентов:\n",
        "- ID — идентификатор записи;\n",
        "- AGE\t— возраст клиента;\n",
        "- GENDER — пол клиента (1 — мужчина, 0 — женщина);\n",
        "- EDUCATION — образование;\n",
        "- MARITAL_STATUS — семейное положение;\n",
        "- CHILD_TOTAL\t— количество детей клиента;\n",
        "- DEPENDANTS — количество иждивенцев клиента;\n",
        "- SOCSTATUS_WORK_FL\t— социальный статус клиента относительно работы (1 — работает, 0 — не работает);\n",
        "- SOCSTATUS_PENS_FL\t— социальный статус клиента относительно пенсии (1 — пенсионер, 0 — не пенсионер);\n",
        "- REG_ADDRESS_PROVINCE — область регистрации клиента;\n",
        "- FACT_ADDRESS_PROVINCE — область фактического пребывания клиента;\n",
        "- POSTAL_ADDRESS_PROVINCE — почтовый адрес области;\n",
        "- FL_PRESENCE_FL — наличие в собственности квартиры (1 — есть, 0 — нет);\n",
        "- OWN_AUTO — количество автомобилей в собственности.\n",
        "\n",
        "\n",
        "**D_agreement**\n",
        "\n",
        "Таблица с зафиксированными откликами клиентов на предложения банка:\n",
        "- AGREEMENT_RK — уникальный идентификатор объекта в выборке;\n",
        "- ID_CLIENT — идентификатор клиента;\n",
        "- TARGET — целевая переменная: отклик на маркетинговую кампанию (1 — отклик был зарегистрирован, 0 — отклика не было).\n",
        "    \n",
        "    \n",
        "**D_job**\n",
        "\n",
        "Описание информации о работе клиентов:\n",
        "- GEN_INDUSTRY — отрасль работы клиента;\n",
        "- GEN_TITLE — должность;\n",
        "- JOB_DIR — направление деятельности внутри компании;\n",
        "- WORK_TIME — время работы на текущем месте (в месяцах);\n",
        "- ID_CLIENT — идентификатор клиента.\n",
        "\n",
        "\n",
        "**D_salary**\n",
        "\n",
        "Описание информации о заработной плате клиентов:\n",
        "- ID_CLIENT — идентификатор клиента;\n",
        "- FAMILY_INCOME — семейный доход (несколько категорий);\n",
        "- PERSONAL_INCOME — личный доход клиента (в рублях).\n",
        "\n",
        "\n",
        "**D_last_credit**\n",
        "\n",
        "Информация о последнем займе клиента:\n",
        "- ID_CLIENT — идентификатор клиента;\n",
        "- CREDIT — сумма последнего кредита клиента (в рублях);\n",
        "- TERM — срок кредита;\n",
        "- FST_PAYMENT — первоначальный взнос (в рублях).\n",
        "\n",
        "\n",
        "**D_loan**\n",
        "\n",
        "Информация о кредитной истории клиента:\n",
        "- ID_CLIENT — идентификатор клиента;\n",
        "- ID_LOAN — идентификатор кредита.\n",
        "\n",
        "**D_close_loan**\n",
        "\n",
        "Информация о статусах кредита (ссуд):\n",
        "- ID_LOAN — идентификатор кредита;\n",
        "- CLOSED_FL — текущий статус кредита (1 — закрыт, 0 — не закрыт)."
      ]
    },
    {
      "cell_type": "markdown",
      "metadata": {
        "id": "aSCbvJeMKegU"
      },
      "source": [
        "Ниже представлен минимальный список колонок, которые должны находиться в итоговом датасете после склейки и агрегации данных. По своему усмотрению вы можете добавить дополнительные к этим колонки."
      ]
    },
    {
      "cell_type": "markdown",
      "metadata": {
        "id": "xDZKZYCtmbwi"
      },
      "source": [
        "    - AGREEMENT_RK — уникальный идентификатор объекта в выборке;\n",
        "    - TARGET — целевая переменная: отклик на маркетинговую кампанию (1 — отклик был зарегистрирован, 0 — отклика не было);\n",
        "    - AGE — возраст клиента;\n",
        "    - SOCSTATUS_WORK_FL — социальный статус клиента относительно работы (1 — работает, 0 — не работает);\n",
        "    - SOCSTATUS_PENS_FL — социальный статус клиента относительно пенсии (1 — пенсионер, 0 — не пенсионер);\n",
        "    - GENDER — пол клиента (1 — мужчина, 0 — женщина);\n",
        "    - CHILD_TOTAL — количество детей клиента;\n",
        "    - DEPENDANTS — количество иждивенцев клиента;\n",
        "    - PERSONAL_INCOME — личный доход клиента (в рублях);\n",
        "    - LOAN_NUM_TOTAL — количество ссуд клиента;\n",
        "    - LOAN_NUM_CLOSED — количество погашенных ссуд клиента.\n"
      ]
    },
    {
      "cell_type": "markdown",
      "metadata": {
        "id": "EDpojLFeAw2Y"
      },
      "source": [
        "Будьте внимательны при сборке датасета: это реальные банковские данные, в которых могут наблюдаться дубли, некорректно заполненные значения или значения, противоречащие друг другу. Для получения качественной модели необходимо предварительно очистить датасет от такой информации."
      ]
    },
    {
      "cell_type": "code",
      "execution_count": 1,
      "metadata": {},
      "outputs": [],
      "source": [
        "import pandas as pd"
      ]
    },
    {
      "cell_type": "markdown",
      "metadata": {
        "id": "GERgJvyYmQEZ"
      },
      "source": [
        "## Задание 1\n",
        "\n",
        "Соберите всю информацию о клиентах в одну таблицу, где одна строчка соответствует полной информации об одном клиенте."
      ]
    },
    {
      "cell_type": "code",
      "execution_count": 2,
      "metadata": {},
      "outputs": [],
      "source": [
        "import os\n",
        "\n",
        "folder_path = \"./datasets\"\n",
        "df_dict = {}\n",
        "\n",
        "for filename in os.listdir(folder_path):\n",
        "    filepath = os.path.join(folder_path, filename)\n",
        "    if os.path.isfile(filepath):\n",
        "        df_dict[filename.replace('.csv', '')] = pd.read_csv(filepath)"
      ]
    },
    {
      "cell_type": "code",
      "execution_count": 3,
      "metadata": {},
      "outputs": [
        {
          "name": "stdout",
          "output_type": "stream",
          "text": [
            "df_result\n"
          ]
        },
        {
          "data": {
            "text/html": [
              "<div>\n",
              "<style scoped>\n",
              "    .dataframe tbody tr th:only-of-type {\n",
              "        vertical-align: middle;\n",
              "    }\n",
              "\n",
              "    .dataframe tbody tr th {\n",
              "        vertical-align: top;\n",
              "    }\n",
              "\n",
              "    .dataframe thead th {\n",
              "        text-align: right;\n",
              "    }\n",
              "</style>\n",
              "<table border=\"1\" class=\"dataframe\">\n",
              "  <thead>\n",
              "    <tr style=\"text-align: right;\">\n",
              "      <th></th>\n",
              "      <th>Unnamed: 0</th>\n",
              "      <th>AGREEMENT_RK</th>\n",
              "      <th>TARGET</th>\n",
              "      <th>AGE</th>\n",
              "      <th>GENDER</th>\n",
              "      <th>EDUCATION</th>\n",
              "      <th>MARITAL_STATUS</th>\n",
              "      <th>CHILD_TOTAL</th>\n",
              "      <th>DEPENDANTS</th>\n",
              "      <th>SOCSTATUS_WORK_FL</th>\n",
              "      <th>...</th>\n",
              "      <th>POSTAL_ADDRESS_PROVINCE</th>\n",
              "      <th>FL_PRESENCE_FL</th>\n",
              "      <th>OWN_AUTO</th>\n",
              "      <th>FAMILY_INCOME</th>\n",
              "      <th>PERSONAL_INCOME</th>\n",
              "      <th>CREDIT</th>\n",
              "      <th>TERM</th>\n",
              "      <th>FST_PAYMENT</th>\n",
              "      <th>LOAN_NUM_TOTAL</th>\n",
              "      <th>LOAN_NUM_CLOSED</th>\n",
              "    </tr>\n",
              "  </thead>\n",
              "  <tbody>\n",
              "    <tr>\n",
              "      <th>0</th>\n",
              "      <td>0</td>\n",
              "      <td>59910150</td>\n",
              "      <td>0</td>\n",
              "      <td>49</td>\n",
              "      <td>1</td>\n",
              "      <td>Среднее специальное</td>\n",
              "      <td>Состою в браке</td>\n",
              "      <td>2</td>\n",
              "      <td>1</td>\n",
              "      <td>1</td>\n",
              "      <td>...</td>\n",
              "      <td>Оренбургская область</td>\n",
              "      <td>0</td>\n",
              "      <td>0</td>\n",
              "      <td>от 10000 до 20000 руб.</td>\n",
              "      <td>5000.0</td>\n",
              "      <td>8000.0</td>\n",
              "      <td>6</td>\n",
              "      <td>8650.0</td>\n",
              "      <td>1</td>\n",
              "      <td>1</td>\n",
              "    </tr>\n",
              "    <tr>\n",
              "      <th>1</th>\n",
              "      <td>1</td>\n",
              "      <td>59910230</td>\n",
              "      <td>0</td>\n",
              "      <td>32</td>\n",
              "      <td>1</td>\n",
              "      <td>Среднее</td>\n",
              "      <td>Состою в браке</td>\n",
              "      <td>3</td>\n",
              "      <td>3</td>\n",
              "      <td>1</td>\n",
              "      <td>...</td>\n",
              "      <td>Кабардино-Балкария</td>\n",
              "      <td>0</td>\n",
              "      <td>0</td>\n",
              "      <td>от 10000 до 20000 руб.</td>\n",
              "      <td>12000.0</td>\n",
              "      <td>21650.0</td>\n",
              "      <td>6</td>\n",
              "      <td>4000.0</td>\n",
              "      <td>1</td>\n",
              "      <td>1</td>\n",
              "    </tr>\n",
              "    <tr>\n",
              "      <th>2</th>\n",
              "      <td>2</td>\n",
              "      <td>59910525</td>\n",
              "      <td>0</td>\n",
              "      <td>52</td>\n",
              "      <td>1</td>\n",
              "      <td>Неполное среднее</td>\n",
              "      <td>Состою в браке</td>\n",
              "      <td>4</td>\n",
              "      <td>0</td>\n",
              "      <td>1</td>\n",
              "      <td>...</td>\n",
              "      <td>Иркутская область</td>\n",
              "      <td>0</td>\n",
              "      <td>0</td>\n",
              "      <td>от 10000 до 20000 руб.</td>\n",
              "      <td>9000.0</td>\n",
              "      <td>33126.0</td>\n",
              "      <td>12</td>\n",
              "      <td>4000.0</td>\n",
              "      <td>2</td>\n",
              "      <td>1</td>\n",
              "    </tr>\n",
              "  </tbody>\n",
              "</table>\n",
              "<p>3 rows × 23 columns</p>\n",
              "</div>"
            ],
            "text/plain": [
              "   Unnamed: 0  AGREEMENT_RK  TARGET  AGE  GENDER            EDUCATION  \\\n",
              "0           0      59910150       0   49       1  Среднее специальное   \n",
              "1           1      59910230       0   32       1              Среднее   \n",
              "2           2      59910525       0   52       1     Неполное среднее   \n",
              "\n",
              "   MARITAL_STATUS  CHILD_TOTAL  DEPENDANTS  SOCSTATUS_WORK_FL  ...  \\\n",
              "0  Состою в браке            2           1                  1  ...   \n",
              "1  Состою в браке            3           3                  1  ...   \n",
              "2  Состою в браке            4           0                  1  ...   \n",
              "\n",
              "   POSTAL_ADDRESS_PROVINCE FL_PRESENCE_FL OWN_AUTO           FAMILY_INCOME  \\\n",
              "0     Оренбургская область              0        0  от 10000 до 20000 руб.   \n",
              "1       Кабардино-Балкария              0        0  от 10000 до 20000 руб.   \n",
              "2        Иркутская область              0        0  от 10000 до 20000 руб.   \n",
              "\n",
              "   PERSONAL_INCOME   CREDIT TERM  FST_PAYMENT  LOAN_NUM_TOTAL  LOAN_NUM_CLOSED  \n",
              "0           5000.0   8000.0    6       8650.0               1                1  \n",
              "1          12000.0  21650.0    6       4000.0               1                1  \n",
              "2           9000.0  33126.0   12       4000.0               2                1  \n",
              "\n",
              "[3 rows x 23 columns]"
            ]
          },
          "metadata": {},
          "output_type": "display_data"
        },
        {
          "name": "stdout",
          "output_type": "stream",
          "text": [
            "Размер: (15223, 23)\n",
            "\n",
            "D_clients\n"
          ]
        },
        {
          "data": {
            "text/html": [
              "<div>\n",
              "<style scoped>\n",
              "    .dataframe tbody tr th:only-of-type {\n",
              "        vertical-align: middle;\n",
              "    }\n",
              "\n",
              "    .dataframe tbody tr th {\n",
              "        vertical-align: top;\n",
              "    }\n",
              "\n",
              "    .dataframe thead th {\n",
              "        text-align: right;\n",
              "    }\n",
              "</style>\n",
              "<table border=\"1\" class=\"dataframe\">\n",
              "  <thead>\n",
              "    <tr style=\"text-align: right;\">\n",
              "      <th></th>\n",
              "      <th>ID</th>\n",
              "      <th>AGE</th>\n",
              "      <th>GENDER</th>\n",
              "      <th>EDUCATION</th>\n",
              "      <th>MARITAL_STATUS</th>\n",
              "      <th>CHILD_TOTAL</th>\n",
              "      <th>DEPENDANTS</th>\n",
              "      <th>SOCSTATUS_WORK_FL</th>\n",
              "      <th>SOCSTATUS_PENS_FL</th>\n",
              "      <th>REG_ADDRESS_PROVINCE</th>\n",
              "      <th>FACT_ADDRESS_PROVINCE</th>\n",
              "      <th>POSTAL_ADDRESS_PROVINCE</th>\n",
              "      <th>FL_PRESENCE_FL</th>\n",
              "      <th>OWN_AUTO</th>\n",
              "    </tr>\n",
              "  </thead>\n",
              "  <tbody>\n",
              "    <tr>\n",
              "      <th>0</th>\n",
              "      <td>106805103</td>\n",
              "      <td>42</td>\n",
              "      <td>1</td>\n",
              "      <td>Среднее</td>\n",
              "      <td>Не состоял в браке</td>\n",
              "      <td>1</td>\n",
              "      <td>0</td>\n",
              "      <td>1</td>\n",
              "      <td>0</td>\n",
              "      <td>Московская область</td>\n",
              "      <td>Московская область</td>\n",
              "      <td>Московская область</td>\n",
              "      <td>1</td>\n",
              "      <td>0</td>\n",
              "    </tr>\n",
              "    <tr>\n",
              "      <th>1</th>\n",
              "      <td>106809308</td>\n",
              "      <td>28</td>\n",
              "      <td>1</td>\n",
              "      <td>Среднее специальное</td>\n",
              "      <td>Состою в браке</td>\n",
              "      <td>1</td>\n",
              "      <td>1</td>\n",
              "      <td>1</td>\n",
              "      <td>0</td>\n",
              "      <td>Читинская область</td>\n",
              "      <td>Читинская область</td>\n",
              "      <td>Читинская область</td>\n",
              "      <td>0</td>\n",
              "      <td>0</td>\n",
              "    </tr>\n",
              "    <tr>\n",
              "      <th>2</th>\n",
              "      <td>106805867</td>\n",
              "      <td>64</td>\n",
              "      <td>0</td>\n",
              "      <td>Среднее специальное</td>\n",
              "      <td>Состою в браке</td>\n",
              "      <td>2</td>\n",
              "      <td>0</td>\n",
              "      <td>1</td>\n",
              "      <td>1</td>\n",
              "      <td>Иркутская область</td>\n",
              "      <td>Иркутская область</td>\n",
              "      <td>Иркутская область</td>\n",
              "      <td>0</td>\n",
              "      <td>1</td>\n",
              "    </tr>\n",
              "  </tbody>\n",
              "</table>\n",
              "</div>"
            ],
            "text/plain": [
              "          ID  AGE  GENDER            EDUCATION      MARITAL_STATUS  \\\n",
              "0  106805103   42       1              Среднее  Не состоял в браке   \n",
              "1  106809308   28       1  Среднее специальное      Состою в браке   \n",
              "2  106805867   64       0  Среднее специальное      Состою в браке   \n",
              "\n",
              "   CHILD_TOTAL  DEPENDANTS  SOCSTATUS_WORK_FL  SOCSTATUS_PENS_FL  \\\n",
              "0            1           0                  1                  0   \n",
              "1            1           1                  1                  0   \n",
              "2            2           0                  1                  1   \n",
              "\n",
              "  REG_ADDRESS_PROVINCE FACT_ADDRESS_PROVINCE POSTAL_ADDRESS_PROVINCE  \\\n",
              "0   Московская область    Московская область      Московская область   \n",
              "1    Читинская область     Читинская область       Читинская область   \n",
              "2    Иркутская область     Иркутская область       Иркутская область   \n",
              "\n",
              "   FL_PRESENCE_FL  OWN_AUTO  \n",
              "0               1         0  \n",
              "1               0         0  \n",
              "2               0         1  "
            ]
          },
          "metadata": {},
          "output_type": "display_data"
        },
        {
          "name": "stdout",
          "output_type": "stream",
          "text": [
            "Размер: (16000, 14)\n",
            "\n",
            "D_close_loan\n"
          ]
        },
        {
          "data": {
            "text/html": [
              "<div>\n",
              "<style scoped>\n",
              "    .dataframe tbody tr th:only-of-type {\n",
              "        vertical-align: middle;\n",
              "    }\n",
              "\n",
              "    .dataframe tbody tr th {\n",
              "        vertical-align: top;\n",
              "    }\n",
              "\n",
              "    .dataframe thead th {\n",
              "        text-align: right;\n",
              "    }\n",
              "</style>\n",
              "<table border=\"1\" class=\"dataframe\">\n",
              "  <thead>\n",
              "    <tr style=\"text-align: right;\">\n",
              "      <th></th>\n",
              "      <th>ID_LOAN</th>\n",
              "      <th>CLOSED_FL</th>\n",
              "    </tr>\n",
              "  </thead>\n",
              "  <tbody>\n",
              "    <tr>\n",
              "      <th>0</th>\n",
              "      <td>1753790658</td>\n",
              "      <td>1</td>\n",
              "    </tr>\n",
              "    <tr>\n",
              "      <th>1</th>\n",
              "      <td>1753790659</td>\n",
              "      <td>1</td>\n",
              "    </tr>\n",
              "    <tr>\n",
              "      <th>2</th>\n",
              "      <td>1753790660</td>\n",
              "      <td>1</td>\n",
              "    </tr>\n",
              "  </tbody>\n",
              "</table>\n",
              "</div>"
            ],
            "text/plain": [
              "      ID_LOAN  CLOSED_FL\n",
              "0  1753790658          1\n",
              "1  1753790659          1\n",
              "2  1753790660          1"
            ]
          },
          "metadata": {},
          "output_type": "display_data"
        },
        {
          "name": "stdout",
          "output_type": "stream",
          "text": [
            "Размер: (21126, 2)\n",
            "\n",
            "D_job\n"
          ]
        },
        {
          "data": {
            "text/html": [
              "<div>\n",
              "<style scoped>\n",
              "    .dataframe tbody tr th:only-of-type {\n",
              "        vertical-align: middle;\n",
              "    }\n",
              "\n",
              "    .dataframe tbody tr th {\n",
              "        vertical-align: top;\n",
              "    }\n",
              "\n",
              "    .dataframe thead th {\n",
              "        text-align: right;\n",
              "    }\n",
              "</style>\n",
              "<table border=\"1\" class=\"dataframe\">\n",
              "  <thead>\n",
              "    <tr style=\"text-align: right;\">\n",
              "      <th></th>\n",
              "      <th>GEN_INDUSTRY</th>\n",
              "      <th>GEN_TITLE</th>\n",
              "      <th>JOB_DIR</th>\n",
              "      <th>WORK_TIME</th>\n",
              "      <th>ID_CLIENT</th>\n",
              "    </tr>\n",
              "  </thead>\n",
              "  <tbody>\n",
              "    <tr>\n",
              "      <th>0</th>\n",
              "      <td>Торговля</td>\n",
              "      <td>Рабочий</td>\n",
              "      <td>Вспомогательный техперсонал</td>\n",
              "      <td>18.0</td>\n",
              "      <td>106804370</td>\n",
              "    </tr>\n",
              "    <tr>\n",
              "      <th>1</th>\n",
              "      <td>Торговля</td>\n",
              "      <td>Рабочий</td>\n",
              "      <td>Участие в основ. деятельности</td>\n",
              "      <td>97.0</td>\n",
              "      <td>106804371</td>\n",
              "    </tr>\n",
              "    <tr>\n",
              "      <th>2</th>\n",
              "      <td>Информационные технологии</td>\n",
              "      <td>Специалист</td>\n",
              "      <td>Участие в основ. деятельности</td>\n",
              "      <td>84.0</td>\n",
              "      <td>106804372</td>\n",
              "    </tr>\n",
              "  </tbody>\n",
              "</table>\n",
              "</div>"
            ],
            "text/plain": [
              "                GEN_INDUSTRY   GEN_TITLE                        JOB_DIR  \\\n",
              "0                   Торговля     Рабочий    Вспомогательный техперсонал   \n",
              "1                   Торговля     Рабочий  Участие в основ. деятельности   \n",
              "2  Информационные технологии  Специалист  Участие в основ. деятельности   \n",
              "\n",
              "   WORK_TIME  ID_CLIENT  \n",
              "0       18.0  106804370  \n",
              "1       97.0  106804371  \n",
              "2       84.0  106804372  "
            ]
          },
          "metadata": {},
          "output_type": "display_data"
        },
        {
          "name": "stdout",
          "output_type": "stream",
          "text": [
            "Размер: (15223, 5)\n",
            "\n",
            "D_last_credit\n"
          ]
        },
        {
          "data": {
            "text/html": [
              "<div>\n",
              "<style scoped>\n",
              "    .dataframe tbody tr th:only-of-type {\n",
              "        vertical-align: middle;\n",
              "    }\n",
              "\n",
              "    .dataframe tbody tr th {\n",
              "        vertical-align: top;\n",
              "    }\n",
              "\n",
              "    .dataframe thead th {\n",
              "        text-align: right;\n",
              "    }\n",
              "</style>\n",
              "<table border=\"1\" class=\"dataframe\">\n",
              "  <thead>\n",
              "    <tr style=\"text-align: right;\">\n",
              "      <th></th>\n",
              "      <th>CREDIT</th>\n",
              "      <th>TERM</th>\n",
              "      <th>FST_PAYMENT</th>\n",
              "      <th>ID_CLIENT</th>\n",
              "    </tr>\n",
              "  </thead>\n",
              "  <tbody>\n",
              "    <tr>\n",
              "      <th>0</th>\n",
              "      <td>8000.0</td>\n",
              "      <td>6</td>\n",
              "      <td>8650.0</td>\n",
              "      <td>106804370</td>\n",
              "    </tr>\n",
              "    <tr>\n",
              "      <th>1</th>\n",
              "      <td>21650.0</td>\n",
              "      <td>6</td>\n",
              "      <td>4000.0</td>\n",
              "      <td>106804371</td>\n",
              "    </tr>\n",
              "    <tr>\n",
              "      <th>2</th>\n",
              "      <td>33126.0</td>\n",
              "      <td>12</td>\n",
              "      <td>4000.0</td>\n",
              "      <td>106804372</td>\n",
              "    </tr>\n",
              "  </tbody>\n",
              "</table>\n",
              "</div>"
            ],
            "text/plain": [
              "    CREDIT  TERM  FST_PAYMENT  ID_CLIENT\n",
              "0   8000.0     6       8650.0  106804370\n",
              "1  21650.0     6       4000.0  106804371\n",
              "2  33126.0    12       4000.0  106804372"
            ]
          },
          "metadata": {},
          "output_type": "display_data"
        },
        {
          "name": "stdout",
          "output_type": "stream",
          "text": [
            "Размер: (15223, 4)\n",
            "\n",
            "D_loan\n"
          ]
        },
        {
          "data": {
            "text/html": [
              "<div>\n",
              "<style scoped>\n",
              "    .dataframe tbody tr th:only-of-type {\n",
              "        vertical-align: middle;\n",
              "    }\n",
              "\n",
              "    .dataframe tbody tr th {\n",
              "        vertical-align: top;\n",
              "    }\n",
              "\n",
              "    .dataframe thead th {\n",
              "        text-align: right;\n",
              "    }\n",
              "</style>\n",
              "<table border=\"1\" class=\"dataframe\">\n",
              "  <thead>\n",
              "    <tr style=\"text-align: right;\">\n",
              "      <th></th>\n",
              "      <th>ID_LOAN</th>\n",
              "      <th>ID_CLIENT</th>\n",
              "    </tr>\n",
              "  </thead>\n",
              "  <tbody>\n",
              "    <tr>\n",
              "      <th>0</th>\n",
              "      <td>1753790658</td>\n",
              "      <td>106804370</td>\n",
              "    </tr>\n",
              "    <tr>\n",
              "      <th>1</th>\n",
              "      <td>1753790659</td>\n",
              "      <td>106804371</td>\n",
              "    </tr>\n",
              "    <tr>\n",
              "      <th>2</th>\n",
              "      <td>1753790660</td>\n",
              "      <td>106804372</td>\n",
              "    </tr>\n",
              "  </tbody>\n",
              "</table>\n",
              "</div>"
            ],
            "text/plain": [
              "      ID_LOAN  ID_CLIENT\n",
              "0  1753790658  106804370\n",
              "1  1753790659  106804371\n",
              "2  1753790660  106804372"
            ]
          },
          "metadata": {},
          "output_type": "display_data"
        },
        {
          "name": "stdout",
          "output_type": "stream",
          "text": [
            "Размер: (21126, 2)\n",
            "\n",
            "D_pens\n"
          ]
        },
        {
          "data": {
            "text/html": [
              "<div>\n",
              "<style scoped>\n",
              "    .dataframe tbody tr th:only-of-type {\n",
              "        vertical-align: middle;\n",
              "    }\n",
              "\n",
              "    .dataframe tbody tr th {\n",
              "        vertical-align: top;\n",
              "    }\n",
              "\n",
              "    .dataframe thead th {\n",
              "        text-align: right;\n",
              "    }\n",
              "</style>\n",
              "<table border=\"1\" class=\"dataframe\">\n",
              "  <thead>\n",
              "    <tr style=\"text-align: right;\">\n",
              "      <th></th>\n",
              "      <th>ID</th>\n",
              "      <th>FLAG</th>\n",
              "      <th>COMMENT</th>\n",
              "    </tr>\n",
              "  </thead>\n",
              "  <tbody>\n",
              "    <tr>\n",
              "      <th>0</th>\n",
              "      <td>1</td>\n",
              "      <td>0</td>\n",
              "      <td>пенсионер</td>\n",
              "    </tr>\n",
              "    <tr>\n",
              "      <th>1</th>\n",
              "      <td>2</td>\n",
              "      <td>1</td>\n",
              "      <td>не пенсионер</td>\n",
              "    </tr>\n",
              "  </tbody>\n",
              "</table>\n",
              "</div>"
            ],
            "text/plain": [
              "   ID  FLAG       COMMENT\n",
              "0   1     0     пенсионер\n",
              "1   2     1  не пенсионер"
            ]
          },
          "metadata": {},
          "output_type": "display_data"
        },
        {
          "name": "stdout",
          "output_type": "stream",
          "text": [
            "Размер: (2, 3)\n",
            "\n",
            "D_salary\n"
          ]
        },
        {
          "data": {
            "text/html": [
              "<div>\n",
              "<style scoped>\n",
              "    .dataframe tbody tr th:only-of-type {\n",
              "        vertical-align: middle;\n",
              "    }\n",
              "\n",
              "    .dataframe tbody tr th {\n",
              "        vertical-align: top;\n",
              "    }\n",
              "\n",
              "    .dataframe thead th {\n",
              "        text-align: right;\n",
              "    }\n",
              "</style>\n",
              "<table border=\"1\" class=\"dataframe\">\n",
              "  <thead>\n",
              "    <tr style=\"text-align: right;\">\n",
              "      <th></th>\n",
              "      <th>FAMILY_INCOME</th>\n",
              "      <th>PERSONAL_INCOME</th>\n",
              "      <th>ID_CLIENT</th>\n",
              "    </tr>\n",
              "  </thead>\n",
              "  <tbody>\n",
              "    <tr>\n",
              "      <th>0</th>\n",
              "      <td>от 20000 до 50000 руб.</td>\n",
              "      <td>20000.0</td>\n",
              "      <td>106809321</td>\n",
              "    </tr>\n",
              "    <tr>\n",
              "      <th>1</th>\n",
              "      <td>от 20000 до 50000 руб.</td>\n",
              "      <td>14000.0</td>\n",
              "      <td>106815561</td>\n",
              "    </tr>\n",
              "    <tr>\n",
              "      <th>2</th>\n",
              "      <td>от 10000 до 20000 руб.</td>\n",
              "      <td>15000.0</td>\n",
              "      <td>106811521</td>\n",
              "    </tr>\n",
              "  </tbody>\n",
              "</table>\n",
              "</div>"
            ],
            "text/plain": [
              "            FAMILY_INCOME  PERSONAL_INCOME  ID_CLIENT\n",
              "0  от 20000 до 50000 руб.          20000.0  106809321\n",
              "1  от 20000 до 50000 руб.          14000.0  106815561\n",
              "2  от 10000 до 20000 руб.          15000.0  106811521"
            ]
          },
          "metadata": {},
          "output_type": "display_data"
        },
        {
          "name": "stdout",
          "output_type": "stream",
          "text": [
            "Размер: (15523, 3)\n",
            "\n",
            "D_target\n"
          ]
        },
        {
          "data": {
            "text/html": [
              "<div>\n",
              "<style scoped>\n",
              "    .dataframe tbody tr th:only-of-type {\n",
              "        vertical-align: middle;\n",
              "    }\n",
              "\n",
              "    .dataframe tbody tr th {\n",
              "        vertical-align: top;\n",
              "    }\n",
              "\n",
              "    .dataframe thead th {\n",
              "        text-align: right;\n",
              "    }\n",
              "</style>\n",
              "<table border=\"1\" class=\"dataframe\">\n",
              "  <thead>\n",
              "    <tr style=\"text-align: right;\">\n",
              "      <th></th>\n",
              "      <th>AGREEMENT_RK</th>\n",
              "      <th>ID_CLIENT</th>\n",
              "      <th>TARGET</th>\n",
              "    </tr>\n",
              "  </thead>\n",
              "  <tbody>\n",
              "    <tr>\n",
              "      <th>0</th>\n",
              "      <td>59910150</td>\n",
              "      <td>106804370</td>\n",
              "      <td>0</td>\n",
              "    </tr>\n",
              "    <tr>\n",
              "      <th>1</th>\n",
              "      <td>59910230</td>\n",
              "      <td>106804371</td>\n",
              "      <td>0</td>\n",
              "    </tr>\n",
              "    <tr>\n",
              "      <th>2</th>\n",
              "      <td>59910525</td>\n",
              "      <td>106804372</td>\n",
              "      <td>0</td>\n",
              "    </tr>\n",
              "  </tbody>\n",
              "</table>\n",
              "</div>"
            ],
            "text/plain": [
              "   AGREEMENT_RK  ID_CLIENT  TARGET\n",
              "0      59910150  106804370       0\n",
              "1      59910230  106804371       0\n",
              "2      59910525  106804372       0"
            ]
          },
          "metadata": {},
          "output_type": "display_data"
        },
        {
          "name": "stdout",
          "output_type": "stream",
          "text": [
            "Размер: (15223, 3)\n",
            "\n",
            "D_work\n"
          ]
        },
        {
          "data": {
            "text/html": [
              "<div>\n",
              "<style scoped>\n",
              "    .dataframe tbody tr th:only-of-type {\n",
              "        vertical-align: middle;\n",
              "    }\n",
              "\n",
              "    .dataframe tbody tr th {\n",
              "        vertical-align: top;\n",
              "    }\n",
              "\n",
              "    .dataframe thead th {\n",
              "        text-align: right;\n",
              "    }\n",
              "</style>\n",
              "<table border=\"1\" class=\"dataframe\">\n",
              "  <thead>\n",
              "    <tr style=\"text-align: right;\">\n",
              "      <th></th>\n",
              "      <th>ID</th>\n",
              "      <th>FLAG</th>\n",
              "      <th>COMMENT</th>\n",
              "    </tr>\n",
              "  </thead>\n",
              "  <tbody>\n",
              "    <tr>\n",
              "      <th>0</th>\n",
              "      <td>1</td>\n",
              "      <td>0</td>\n",
              "      <td>работает</td>\n",
              "    </tr>\n",
              "    <tr>\n",
              "      <th>1</th>\n",
              "      <td>2</td>\n",
              "      <td>1</td>\n",
              "      <td>не работает</td>\n",
              "    </tr>\n",
              "    <tr>\n",
              "      <th>2</th>\n",
              "      <td>3</td>\n",
              "      <td>2</td>\n",
              "      <td>не известно</td>\n",
              "    </tr>\n",
              "  </tbody>\n",
              "</table>\n",
              "</div>"
            ],
            "text/plain": [
              "   ID  FLAG      COMMENT\n",
              "0   1     0     работает\n",
              "1   2     1  не работает\n",
              "2   3     2  не известно"
            ]
          },
          "metadata": {},
          "output_type": "display_data"
        },
        {
          "name": "stdout",
          "output_type": "stream",
          "text": [
            "Размер: (3, 3)\n",
            "\n"
          ]
        }
      ],
      "source": [
        "for name, df in df_dict.items():\n",
        "    print(name)\n",
        "    display(df.head(3))\n",
        "    print(f'Размер: {df.shape}\\n')"
      ]
    },
    {
      "cell_type": "markdown",
      "metadata": {},
      "source": [
        "Соединим данные таблиц кредитов"
      ]
    },
    {
      "cell_type": "code",
      "execution_count": 4,
      "metadata": {},
      "outputs": [
        {
          "name": "stdout",
          "output_type": "stream",
          "text": [
            "<class 'pandas.core.frame.DataFrame'>\n",
            "Int64Index: 21126 entries, 0 to 21125\n",
            "Data columns (total 3 columns):\n",
            " #   Column     Non-Null Count  Dtype\n",
            "---  ------     --------------  -----\n",
            " 0   ID_LOAN    21126 non-null  int64\n",
            " 1   ID_CLIENT  21126 non-null  int64\n",
            " 2   CLOSED_FL  21126 non-null  int64\n",
            "dtypes: int64(3)\n",
            "memory usage: 660.2 KB\n"
          ]
        }
      ],
      "source": [
        "df_loan = pd.merge(df_dict['D_loan'], df_dict['D_close_loan'], on='ID_LOAN', how='left')\n",
        "df_loan.info()"
      ]
    },
    {
      "cell_type": "markdown",
      "metadata": {},
      "source": [
        "Строки не задублировались, для каждого кредита нашелся статус.\n",
        "\n",
        "Проверим, что нет дублирующихся строк"
      ]
    },
    {
      "cell_type": "code",
      "execution_count": 5,
      "metadata": {},
      "outputs": [
        {
          "data": {
            "text/plain": [
              "0"
            ]
          },
          "execution_count": 5,
          "metadata": {},
          "output_type": "execute_result"
        }
      ],
      "source": [
        "df_loan.duplicated(subset=['ID_LOAN', 'ID_CLIENT']).sum()"
      ]
    },
    {
      "cell_type": "markdown",
      "metadata": {},
      "source": [
        "Получим нужные поля:\n",
        "- LOAN_NUM_TOTAL — количество ссуд клиента;\n",
        "- LOAN_NUM_CLOSED — количество погашенных ссуд клиента."
      ]
    },
    {
      "cell_type": "code",
      "execution_count": 6,
      "metadata": {},
      "outputs": [
        {
          "data": {
            "text/html": [
              "<div>\n",
              "<style scoped>\n",
              "    .dataframe tbody tr th:only-of-type {\n",
              "        vertical-align: middle;\n",
              "    }\n",
              "\n",
              "    .dataframe tbody tr th {\n",
              "        vertical-align: top;\n",
              "    }\n",
              "\n",
              "    .dataframe thead th {\n",
              "        text-align: right;\n",
              "    }\n",
              "</style>\n",
              "<table border=\"1\" class=\"dataframe\">\n",
              "  <thead>\n",
              "    <tr style=\"text-align: right;\">\n",
              "      <th></th>\n",
              "      <th>ID_CLIENT</th>\n",
              "      <th>LOAN_NUM_TOTAL</th>\n",
              "      <th>LOAN_NUM_CLOSED</th>\n",
              "    </tr>\n",
              "  </thead>\n",
              "  <tbody>\n",
              "    <tr>\n",
              "      <th>0</th>\n",
              "      <td>106804370</td>\n",
              "      <td>1</td>\n",
              "      <td>1</td>\n",
              "    </tr>\n",
              "    <tr>\n",
              "      <th>1</th>\n",
              "      <td>106804371</td>\n",
              "      <td>1</td>\n",
              "      <td>1</td>\n",
              "    </tr>\n",
              "    <tr>\n",
              "      <th>2</th>\n",
              "      <td>106804372</td>\n",
              "      <td>2</td>\n",
              "      <td>1</td>\n",
              "    </tr>\n",
              "  </tbody>\n",
              "</table>\n",
              "</div>"
            ],
            "text/plain": [
              "   ID_CLIENT  LOAN_NUM_TOTAL  LOAN_NUM_CLOSED\n",
              "0  106804370               1                1\n",
              "1  106804371               1                1\n",
              "2  106804372               2                1"
            ]
          },
          "execution_count": 6,
          "metadata": {},
          "output_type": "execute_result"
        }
      ],
      "source": [
        "df_loan = df_loan.groupby('ID_CLIENT', as_index=False).agg(\n",
        "    LOAN_NUM_TOTAL=('ID_LOAN', 'nunique'),\n",
        "    LOAN_NUM_CLOSED=('CLOSED_FL', 'sum')\n",
        ")\n",
        "df_loan.head(3)"
      ]
    },
    {
      "cell_type": "markdown",
      "metadata": {},
      "source": [
        "В таблице зарплат есть дубли"
      ]
    },
    {
      "cell_type": "code",
      "execution_count": 7,
      "metadata": {},
      "outputs": [
        {
          "data": {
            "text/plain": [
              "300"
            ]
          },
          "execution_count": 7,
          "metadata": {},
          "output_type": "execute_result"
        }
      ],
      "source": [
        "df_dict['D_salary'].duplicated(subset=['ID_CLIENT']).sum()"
      ]
    },
    {
      "cell_type": "markdown",
      "metadata": {},
      "source": [
        "Оставим последнюю строку, предполагая, что это самое актуальное значение"
      ]
    },
    {
      "cell_type": "code",
      "execution_count": 8,
      "metadata": {},
      "outputs": [
        {
          "data": {
            "text/plain": [
              "(15223, 3)"
            ]
          },
          "execution_count": 8,
          "metadata": {},
          "output_type": "execute_result"
        }
      ],
      "source": [
        "df_salary = df_dict['D_salary'][~df_dict['D_salary'].duplicated(subset=['ID_CLIENT'], keep='last')]\n",
        "df_salary.shape"
      ]
    },
    {
      "cell_type": "markdown",
      "metadata": {},
      "source": [
        "Проверим данные о работе на наличие пропущенных значений"
      ]
    },
    {
      "cell_type": "code",
      "execution_count": 9,
      "metadata": {},
      "outputs": [
        {
          "data": {
            "text/plain": [
              "GEN_INDUSTRY    1367\n",
              "GEN_TITLE       1367\n",
              "JOB_DIR         1367\n",
              "WORK_TIME       1368\n",
              "dtype: int64"
            ]
          },
          "execution_count": 9,
          "metadata": {},
          "output_type": "execute_result"
        }
      ],
      "source": [
        "na_counts = df_dict['D_job'].isnull().sum()\n",
        "na_counts[na_counts>0]"
      ]
    },
    {
      "cell_type": "markdown",
      "metadata": {},
      "source": [
        "Слишком много пропущенных значений, в рамках этой задачи не будем использовать"
      ]
    },
    {
      "cell_type": "markdown",
      "metadata": {},
      "source": [
        "Объединим данные в один датафрейм"
      ]
    },
    {
      "cell_type": "code",
      "execution_count": 10,
      "metadata": {},
      "outputs": [],
      "source": [
        "df = pd.merge(df_dict['D_target'], df_dict['D_clients'], left_on='ID_CLIENT', right_on='ID', how='left')\n",
        "df = pd.merge(df, df_salary, on='ID_CLIENT', how='left')\n",
        "df = pd.merge(df, df_dict['D_last_credit'], on='ID_CLIENT', how='left')\n",
        "df = pd.merge(df, df_loan, on='ID_CLIENT', how='left')"
      ]
    },
    {
      "cell_type": "code",
      "execution_count": 11,
      "metadata": {},
      "outputs": [
        {
          "data": {
            "text/plain": [
              "(15223, 24)"
            ]
          },
          "execution_count": 11,
          "metadata": {},
          "output_type": "execute_result"
        }
      ],
      "source": [
        "df.shape"
      ]
    },
    {
      "cell_type": "markdown",
      "metadata": {},
      "source": [
        "Проверим, есть ли пропущенные значения"
      ]
    },
    {
      "cell_type": "code",
      "execution_count": 12,
      "metadata": {},
      "outputs": [
        {
          "data": {
            "text/plain": [
              "Series([], dtype: int64)"
            ]
          },
          "execution_count": 12,
          "metadata": {},
          "output_type": "execute_result"
        }
      ],
      "source": [
        "na_counts = df.isnull().sum()\n",
        "na_counts[na_counts>0]"
      ]
    },
    {
      "cell_type": "markdown",
      "metadata": {},
      "source": [
        "Пропущенных значений нет"
      ]
    },
    {
      "cell_type": "markdown",
      "metadata": {},
      "source": [
        "Сохраним результат в файл"
      ]
    },
    {
      "cell_type": "code",
      "execution_count": 13,
      "metadata": {},
      "outputs": [],
      "source": [
        "df.drop(['ID', 'ID_CLIENT'], axis=1, inplace=True)\n",
        "df.to_csv('.\\datasets\\df_result.csv')"
      ]
    },
    {
      "cell_type": "markdown",
      "metadata": {
        "id": "I7jn6IYXx6M9"
      },
      "source": [
        "## Задание 2\n",
        "\n",
        "При помощи инструмента Streamlit проведите разведочный анализ данных. В него может входить:\n",
        "\n",
        "* построение графиков распределений признаков\n",
        "* построение матрицы корреляций\n",
        "* построение графиков зависимостей целевой переменной и признаков\n",
        "* вычисление числовых характеристик распределения числовых столбцов (среднее, min, max, медиана и так далее)\n",
        "* любые другие ваши идеи приветствуются!\n",
        "\n",
        "[Пример Streamlit-приложения](https://rateyourflight.streamlit.app) с разведочным анализом, прогнозом модели и оценкой ее результатов."
      ]
    },
    {
      "attachments": {
        "image.png": {
          "image/png": "[encoded data removed]"
        }
      },
      "cell_type": "markdown",
      "metadata": {},
      "source": [
        "![image.png](attachment:image.png)"
      ]
    },
    {
      "attachments": {
        "image.png": {
          "image/png": "[encoded data removed]"
        }
      },
      "cell_type": "markdown",
      "metadata": {},
      "source": [
        "![image.png](attachment:image.png)"
      ]
    },
    {
      "attachments": {
        "image.png": {
          "image/png": "[encoded data removed]"
        }
      },
      "cell_type": "markdown",
      "metadata": {},
      "source": [
        "![image.png](attachment:image.png)"
      ]
    },
    {
      "cell_type": "markdown",
      "metadata": {},
      "source": [
        "Проведен разведывательный анализ данных. Целью было поработать со streamlit и проверить, как отображаются различные виды графиков, а не глубина анализа.\n",
        "\n",
        "[Код приложение Streamlit](streamlit_page.py)"
      ]
    }
  ],
  "metadata": {
    "colab": {
      "provenance": []
    },
    "kernelspec": {
      "display_name": "Python 3",
      "name": "python3"
    },
    "language_info": {
      "codemirror_mode": {
        "name": "ipython",
        "version": 3
      },
      "file_extension": ".py",
      "mimetype": "text/x-python",
      "name": "python",
      "nbconvert_exporter": "python",
      "pygments_lexer": "ipython3",
      "version": "3.9.10"
    }
  },
  "nbformat": 4,
  "nbformat_minor": 0
}
